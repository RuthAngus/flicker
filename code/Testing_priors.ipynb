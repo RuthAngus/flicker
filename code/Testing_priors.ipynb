{
 "cells": [
  {
   "cell_type": "markdown",
   "metadata": {},
   "source": [
    "Testing how using different priors on the slope parameters changes posteriors"
   ]
  },
  {
   "cell_type": "code",
   "execution_count": null,
   "metadata": {
    "collapsed": true
   },
   "outputs": [],
   "source": [
    "import numpy as np\n",
    "import matplotlib.pyplot as plt\n",
    "%matplotlib inline\n",
    "import corner\n",
    "import emcee"
   ]
  },
  {
   "cell_type": "markdown",
   "metadata": {},
   "source": [
    "Define various functions"
   ]
  },
  {
   "cell_type": "code",
   "execution_count": null,
   "metadata": {
    "collapsed": true
   },
   "outputs": [],
   "source": [
    "def model(m, c, x):\n",
    "    return m * x + c"
   ]
  },
  {
   "cell_type": "markdown",
   "metadata": {},
   "source": [
    "Priors"
   ]
  },
  {
   "cell_type": "code",
   "execution_count": null,
   "metadata": {
    "collapsed": true
   },
   "outputs": [],
   "source": [
    "def simple_lnprior(pars):\n",
    "    if -10 < pars[0] < 10 and -10 < pars[1] < 10 and -10 < pars[2] < 10:\n",
    "        return 0.\n",
    "    else:\n",
    "        return -np.inf"
   ]
  },
  {
   "cell_type": "code",
   "execution_count": null,
   "metadata": {
    "collapsed": true
   },
   "outputs": [],
   "source": [
    "def jake_lnprior(pars):\n",
    "    alpha, beta, sigma = pars\n",
    "    if sigma < 0:\n",
    "        return -np.inf\n",
    "    else:\n",
    "        return -1.5 * np.log(1 + beta ** 2) - np.log(sigma)"
   ]
  },
  {
   "cell_type": "markdown",
   "metadata": {},
   "source": [
    "Log probs"
   ]
  },
  {
   "cell_type": "code",
   "execution_count": null,
   "metadata": {
    "collapsed": true
   },
   "outputs": [],
   "source": [
    "def simple_lnprob(pars, x, y, yerr):\n",
    "    return simple_lnprior(pars) + lnlike(pars, x, y, yerr)"
   ]
  },
  {
   "cell_type": "code",
   "execution_count": null,
   "metadata": {
    "collapsed": true
   },
   "outputs": [],
   "source": [
    "def jake_lnprob(pars, x, y, yerr):\n",
    "    return jake_lnprior(pars) + lnlike(pars, x, y, yerr)"
   ]
  },
  {
   "cell_type": "markdown",
   "metadata": {},
   "source": [
    "Likelihood"
   ]
  },
  {
   "cell_type": "code",
   "execution_count": null,
   "metadata": {
    "collapsed": false
   },
   "outputs": [],
   "source": [
    "def lnlike(pars, x, y, yerr):\n",
    "    m, c, s = pars\n",
    "    invsig2 = 1./(yerr**2 + np.exp(2*s))\n",
    "    model_y = model(m, c, x)\n",
    "    return -.5*np.sum((y-model_y)**2*invsig2 - np.log(invsig2))"
   ]
  },
  {
   "cell_type": "code",
   "execution_count": null,
   "metadata": {
    "collapsed": false
   },
   "outputs": [],
   "source": [
    "# load data\n",
    "f, ferr, r, rerr = np.genfromtxt(\"../data/flickers.dat\").T\n",
    "\n",
    "# fit a line\n",
    "AT = np.vstack((r, np.ones_like(r)))\n",
    "ATA = np.dot(AT, AT.T)\n",
    "m, c = np.linalg.solve(ATA, np.dot(AT, f))\n",
    "print(\"params = \", m, c)\n",
    "\n",
    "# plot data with best fit line\n",
    "xs = np.linspace(min(r), max(r), 100)\n",
    "ys = m * xs + c\n",
    "plt.errorbar(r, f, xerr=rerr, yerr=ferr, fmt=\"k.\", capsize=0)\n",
    "plt.plot(xs, ys)\n",
    "plt.ylabel(\"log flicker\")\n",
    "plt.xlabel(\"log rho\")"
   ]
  },
  {
   "cell_type": "markdown",
   "metadata": {},
   "source": [
    "Run simple version"
   ]
  },
  {
   "cell_type": "code",
   "execution_count": null,
   "metadata": {
    "collapsed": false
   },
   "outputs": [],
   "source": [
    "pars_init = [m, c, np.log(3)]\n",
    "print(simple_lnlike(pars_init, r, f, ferr)) # check the lhf works"
   ]
  },
  {
   "cell_type": "code",
   "execution_count": null,
   "metadata": {
    "collapsed": false
   },
   "outputs": [],
   "source": [
    "ndim, nwalkers = 3, 24\n",
    "pos = [pars_init + 1e-4 * np.random.randn(ndim) for i in range(nwalkers)]  # initialisation\n",
    "sampler = emcee.EnsembleSampler(nwalkers, ndim, uniform_lnprob, args=(r, f, ferr))\n",
    "sampler.run_mcmc(pos, 10000)  # run MCMC\n",
    "samples = sampler.chain[:, 1000:, :].reshape((-1, ndim))  # cut off burn in and flatten chains\n",
    "samples[:, 2] = np.exp(samples[:, 2])\n",
    "m1, c1, ln_sig1 = map(lambda v: (v[1], v[2]-v[1], v[1]-v[0]), zip(*np.percentile(samples, [16, 50, 84], axis=0)))\n",
    "fig = corner.corner(samples, labels=[\"m\", \"c\", \"s\"])"
   ]
  },
  {
   "cell_type": "markdown",
   "metadata": {},
   "source": [
    "Run uniform in cos theta version"
   ]
  },
  {
   "cell_type": "code",
   "execution_count": null,
   "metadata": {
    "collapsed": false
   },
   "outputs": [],
   "source": [
    "pars_init = [np.cos(np.arctan(m)), c, np.log(3)]\n",
    "print(angle_lnlike(pars_init, r, f, ferr)) # check the lhf works\n",
    "print(angle_lnprob(pars_init, r, f, ferr)) # check the lhf works\n",
    "print(angle_lnprior(pars_init)) # check the lhf works"
   ]
  },
  {
   "cell_type": "code",
   "execution_count": null,
   "metadata": {
    "collapsed": false
   },
   "outputs": [],
   "source": [
    "ndim, nwalkers = 3, 24\n",
    "pos = [pars_init + 1e-4 * np.random.randn(ndim) for i in range(nwalkers)]  # initialisation\n",
    "sampler = emcee.EnsembleSampler(nwalkers, ndim, angle_lnprob, args=(r, f, ferr))\n",
    "sampler.run_mcmc(pos, 10000)  # run MCMC\n",
    "samples = sampler.chain[:, 1000:, :].reshape((-1, ndim))  # cut off burn in and flatten chains\n",
    "samples[:, 2] = np.exp(samples[:, 2])\n",
    "samples[:, 0] = np.tan(np.arccos(samples[:, 0]))\n",
    "m2, c2, ln_sig2 = map(lambda v: (v[1], v[2]-v[1], v[1]-v[0]), zip(*np.percentile(samples, [16, 50, 84], axis=0)))\n",
    "fig = corner.corner(samples, labels=[\"m\", \"c\", \"s\"])"
   ]
  },
  {
   "cell_type": "code",
   "execution_count": null,
   "metadata": {
    "collapsed": true
   },
   "outputs": [],
   "source": []
  }
 ],
 "metadata": {
  "kernelspec": {
   "display_name": "Python 3",
   "language": "python",
   "name": "python3"
  },
  "language_info": {
   "codemirror_mode": {
    "name": "ipython",
    "version": 3
   },
   "file_extension": ".py",
   "mimetype": "text/x-python",
   "name": "python",
   "nbconvert_exporter": "python",
   "pygments_lexer": "ipython3",
   "version": "3.5.0"
  }
 },
 "nbformat": 4,
 "nbformat_minor": 0
}
