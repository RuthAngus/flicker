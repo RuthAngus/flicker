{
 "cells": [
  {
   "cell_type": "markdown",
   "metadata": {},
   "source": [
    "Testing whether the Hogg method does the same thing as the analytic method."
   ]
  },
  {
   "cell_type": "code",
   "execution_count": 1,
   "metadata": {
    "collapsed": true
   },
   "outputs": [],
   "source": [
    "import numpy as np\n",
    "import matplotlib.pyplot as plt\n",
    "%matplotlib inline\n",
    "import corner\n",
    "import emcee"
   ]
  },
  {
   "cell_type": "markdown",
   "metadata": {},
   "source": [
    "Define functions for MCMC"
   ]
  },
  {
   "cell_type": "code",
   "execution_count": 6,
   "metadata": {
    "collapsed": true
   },
   "outputs": [],
   "source": [
    "def lnprior(pars):\n",
    "    if -10 < pars[0] < 10 and -10 < pars[1] < 10 and -10 < pars[2] < 10:\n",
    "        return 0.\n",
    "    else:\n",
    "        return -np.inf"
   ]
  },
  {
   "cell_type": "code",
   "execution_count": 11,
   "metadata": {
    "collapsed": true
   },
   "outputs": [],
   "source": [
    "def hogg_lnprob(pars, x, y, yerr):\n",
    "    return lnprior(pars) + lnlikeHF(pars, x, y, yerr)"
   ]
  },
  {
   "cell_type": "code",
   "execution_count": 8,
   "metadata": {
    "collapsed": true
   },
   "outputs": [],
   "source": [
    "def lnprob(pars, x, y, yerr):\n",
    "    return lnprior(pars) + lnlike(pars, x, y, yerr)"
   ]
  },
  {
   "cell_type": "code",
   "execution_count": 9,
   "metadata": {
    "collapsed": true
   },
   "outputs": [],
   "source": [
    "def lnlikeHF(pars, samples, obs, u):\n",
    "     ndims, nobs, nsamp = samples.shape\n",
    "        ll = np.zeros((nobs, nsamp*nobs))\n",
    "        for i in range(nobs):\n",
    "            inv_sigma2 = 1.0/(u[1, :][i]**2 + (pars[2]*model1(pars, obs[0, :][i]))**2)\n",
    "            ll[i, :] = -.5*((obs[1, :][i] - model(pars, samples))**2*inv_sigma2) + np.log(inv_sigma2)\n",
    "        loglike = np.sum(np.logaddexp.reduce(ll, axis=1))\n",
    "        if np.isfinite(loglike):\n",
    "            return loglike\n",
    "        return -np.inf"
   ]
  },
  {
   "cell_type": "code",
   "execution_count": 10,
   "metadata": {
    "collapsed": true
   },
   "outputs": [],
   "source": [
    "def lnlike(pars, x, y, yerr):\n",
    "    invsig2 = 1./(yerr**2 + np.exp(2*pars[2]))\n",
    "    model_y = pars[0] * x + pars[1]\n",
    "    return -.5*np.sum((y-model_y)**2*invsig2 - np.log(invsig2))"
   ]
  },
  {
   "cell_type": "markdown",
   "metadata": {},
   "source": [
    "Define a function for generating samples from the data"
   ]
  },
  {
   "cell_type": "code",
   "execution_count": null,
   "metadata": {
    "collapsed": true
   },
   "outputs": [],
   "source": []
  },
  {
   "cell_type": "markdown",
   "metadata": {},
   "source": [
    "Load and plot data"
   ]
  },
  {
   "cell_type": "code",
   "execution_count": 5,
   "metadata": {
    "collapsed": false
   },
   "outputs": [
    {
     "name": "stdout",
     "output_type": "stream",
     "text": [
      "params =  -0.525509606298 2.88909102256\n"
     ]
    },
    {
     "data": {
      "text/plain": [
       "<matplotlib.text.Text at 0x101528a20>"
      ]
     },
     "execution_count": 5,
     "metadata": {},
     "output_type": "execute_result"
    },
    {
     "name": "stderr",
     "output_type": "stream",
     "text": [
      "/Users/ruthangus/anaconda/lib/python3.5/site-packages/matplotlib/collections.py:590: FutureWarning: elementwise comparison failed; returning scalar instead, but in the future will perform elementwise comparison\n",
      "  if self._edgecolors == str('face'):\n"
     ]
    },
    {
     "data": {
      "image/png": "[encoded data removed]",
      "text/plain": [
       "<matplotlib.figure.Figure at 0x10869f9e8>"
      ]
     },
     "metadata": {},
     "output_type": "display_data"
    }
   ],
   "source": [
    "# load data\n",
    "f, ferr, r, rerr = np.genfromtxt(\"../data/flickers.dat\").T\n",
    "\n",
    "# fit a line\n",
    "AT = np.vstack((r, np.ones_like(r)))\n",
    "ATA = np.dot(AT, AT.T)\n",
    "m, c = np.linalg.solve(ATA, np.dot(AT, f))\n",
    "print(\"params = \", m, c)\n",
    "\n",
    "# plot data with best fit line\n",
    "xs = np.linspace(min(r), max(r), 100)\n",
    "ys = m * xs + c\n",
    "plt.errorbar(r, f, xerr=rerr, yerr=ferr, fmt=\"k.\", capsize=0)\n",
    "plt.plot(xs, ys)\n",
    "plt.ylabel(\"log flicker\")\n",
    "plt.xlabel(\"log rho\")"
   ]
  },
  {
   "cell_type": "code",
   "execution_count": null,
   "metadata": {
    "collapsed": true
   },
   "outputs": [],
   "source": []
  }
 ],
 "metadata": {
  "kernelspec": {
   "display_name": "Python 3",
   "language": "python",
   "name": "python3"
  },
  "language_info": {
   "codemirror_mode": {
    "name": "ipython",
    "version": 3
   },
   "file_extension": ".py",
   "mimetype": "text/x-python",
   "name": "python",
   "nbconvert_exporter": "python",
   "pygments_lexer": "ipython3",
   "version": "3.5.0"
  }
 },
 "nbformat": 4,
 "nbformat_minor": 0
}
